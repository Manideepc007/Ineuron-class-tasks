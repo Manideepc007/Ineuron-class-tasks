{
 "cells": [
  {
   "cell_type": "markdown",
   "metadata": {},
   "source": [
    "import necessary modules and libraries"
   ]
  },
  {
   "cell_type": "code",
   "execution_count": 1,
   "metadata": {},
   "outputs": [],
   "source": [
    "import os\n",
    "import platform\n",
    "import datetime\n",
    "from PIL import Image\n",
    "import cv2\n",
    "import time\n",
    "import numpy as np\n",
    "import shutil\n",
    "from __future__ import print_function\n",
    "import os.path\n",
    "from google.auth.transport.requests import Request\n",
    "from google.oauth2.credentials import Credentials\n",
    "from google_auth_oauthlib.flow import InstalledAppFlow\n",
    "from googleapiclient.discovery import build\n",
    "from googleapiclient.errors import HttpError\n",
    "import smtplib\n",
    "import docx2txt\n",
    "import pdfminer\n",
    "from pdfminer.high_level import extract_text\n",
    "from PyPDF2 import PdfFileMerger\n",
    "import socket\n",
    "import glob"
   ]
  },
  {
   "cell_type": "code",
   "execution_count": 9,
   "metadata": {},
   "outputs": [],
   "source": [
    "from PyPDF2 import PdfFileMerger"
   ]
  },
  {
   "cell_type": "code",
   "execution_count": 11,
   "metadata": {},
   "outputs": [],
   "source": [
    "import glob"
   ]
  },
  {
   "cell_type": "code",
   "execution_count": null,
   "metadata": {},
   "outputs": [],
   "source": [
    "pip install pdfminer.six"
   ]
  },
  {
   "cell_type": "code",
   "execution_count": null,
   "metadata": {},
   "outputs": [],
   "source": [
    "pip install docx2txt"
   ]
  },
  {
   "cell_type": "code",
   "execution_count": null,
   "metadata": {},
   "outputs": [],
   "source": [
    "pip install PyPDF2"
   ]
  },
  {
   "cell_type": "code",
   "execution_count": null,
   "metadata": {},
   "outputs": [],
   "source": [
    "pip install pillow"
   ]
  },
  {
   "cell_type": "code",
   "execution_count": 7,
   "metadata": {},
   "outputs": [
    {
     "name": "stdout",
     "output_type": "stream",
     "text": [
      "Collecting google-api-python-client\n",
      "  Downloading google_api_python_client-2.34.0-py2.py3-none-any.whl (7.9 MB)\n",
      "Requirement already up-to-date: google-auth-httplib2 in c:\\users\\manim\\anaconda3\\lib\\site-packages (0.1.0)\n",
      "Requirement already up-to-date: google-auth-oauthlib in c:\\users\\manim\\anaconda3\\lib\\site-packages (0.4.6)\n",
      "Requirement already satisfied, skipping upgrade: uritemplate<5,>=3.0.1 in c:\\users\\manim\\anaconda3\\lib\\site-packages (from google-api-python-client) (4.1.1)\n",
      "Requirement already satisfied, skipping upgrade: httplib2<1dev,>=0.15.0 in c:\\users\\manim\\anaconda3\\lib\\site-packages (from google-api-python-client) (0.20.2)\n",
      "Requirement already satisfied, skipping upgrade: google-api-core<3.0.0dev,>=1.21.0 in c:\\users\\manim\\anaconda3\\lib\\site-packages (from google-api-python-client) (2.3.2)\n",
      "Requirement already satisfied, skipping upgrade: google-auth<3.0.0dev,>=1.16.0 in c:\\users\\manim\\anaconda3\\lib\\site-packages (from google-api-python-client) (2.3.3)\n",
      "Requirement already satisfied, skipping upgrade: six in c:\\users\\manim\\anaconda3\\lib\\site-packages\\six-1.16.0-py3.8.egg (from google-auth-httplib2) (1.16.0)\n",
      "Requirement already satisfied, skipping upgrade: requests-oauthlib>=0.7.0 in c:\\users\\manim\\anaconda3\\lib\\site-packages (from google-auth-oauthlib) (1.3.0)\n",
      "Requirement already satisfied, skipping upgrade: pyparsing!=3.0.0,!=3.0.1,!=3.0.2,!=3.0.3,<4,>=2.4.2; python_version > \"3.0\" in c:\\users\\manim\\anaconda3\\lib\\site-packages (from httplib2<1dev,>=0.15.0->google-api-python-client) (2.4.7)\n",
      "Requirement already satisfied, skipping upgrade: requests<3.0.0dev,>=2.18.0 in c:\\users\\manim\\anaconda3\\lib\\site-packages (from google-api-core<3.0.0dev,>=1.21.0->google-api-python-client) (2.24.0)\n",
      "Requirement already satisfied, skipping upgrade: googleapis-common-protos<2.0dev,>=1.52.0 in c:\\users\\manim\\anaconda3\\lib\\site-packages (from google-api-core<3.0.0dev,>=1.21.0->google-api-python-client) (1.54.0)\n",
      "Requirement already satisfied, skipping upgrade: protobuf>=3.12.0 in c:\\users\\manim\\anaconda3\\lib\\site-packages (from google-api-core<3.0.0dev,>=1.21.0->google-api-python-client) (3.14.0)\n",
      "Requirement already satisfied, skipping upgrade: setuptools>=40.3.0 in c:\\users\\manim\\anaconda3\\lib\\site-packages (from google-api-core<3.0.0dev,>=1.21.0->google-api-python-client) (50.3.1.post20201107)\n",
      "Requirement already satisfied, skipping upgrade: cachetools<5.0,>=2.0.0 in c:\\users\\manim\\anaconda3\\lib\\site-packages (from google-auth<3.0.0dev,>=1.16.0->google-api-python-client) (4.2.4)\n",
      "Requirement already satisfied, skipping upgrade: rsa<5,>=3.1.4; python_version >= \"3.6\" in c:\\users\\manim\\anaconda3\\lib\\site-packages (from google-auth<3.0.0dev,>=1.16.0->google-api-python-client) (4.8)\n",
      "Requirement already satisfied, skipping upgrade: pyasn1-modules>=0.2.1 in c:\\users\\manim\\anaconda3\\lib\\site-packages (from google-auth<3.0.0dev,>=1.16.0->google-api-python-client) (0.2.8)\n",
      "Requirement already satisfied, skipping upgrade: oauthlib>=3.0.0 in c:\\users\\manim\\anaconda3\\lib\\site-packages (from requests-oauthlib>=0.7.0->google-auth-oauthlib) (3.1.1)\n",
      "Requirement already satisfied, skipping upgrade: urllib3!=1.25.0,!=1.25.1,<1.26,>=1.21.1 in c:\\users\\manim\\anaconda3\\lib\\site-packages (from requests<3.0.0dev,>=2.18.0->google-api-core<3.0.0dev,>=1.21.0->google-api-python-client) (1.25.11)\n",
      "Requirement already satisfied, skipping upgrade: certifi>=2017.4.17 in c:\\users\\manim\\anaconda3\\lib\\site-packages (from requests<3.0.0dev,>=2.18.0->google-api-core<3.0.0dev,>=1.21.0->google-api-python-client) (2020.6.20)\n",
      "Requirement already satisfied, skipping upgrade: idna<3,>=2.5 in c:\\users\\manim\\anaconda3\\lib\\site-packages (from requests<3.0.0dev,>=2.18.0->google-api-core<3.0.0dev,>=1.21.0->google-api-python-client) (2.10)\n",
      "Requirement already satisfied, skipping upgrade: chardet<4,>=3.0.2 in c:\\users\\manim\\anaconda3\\lib\\site-packages (from requests<3.0.0dev,>=2.18.0->google-api-core<3.0.0dev,>=1.21.0->google-api-python-client) (3.0.4)\n",
      "Requirement already satisfied, skipping upgrade: pyasn1>=0.1.3 in c:\\users\\manim\\anaconda3\\lib\\site-packages (from rsa<5,>=3.1.4; python_version >= \"3.6\"->google-auth<3.0.0dev,>=1.16.0->google-api-python-client) (0.4.8)\n",
      "Installing collected packages: google-api-python-client\n",
      "  Attempting uninstall: google-api-python-client\n",
      "    Found existing installation: google-api-python-client 2.33.0\n",
      "    Uninstalling google-api-python-client-2.33.0:\n",
      "      Successfully uninstalled google-api-python-client-2.33.0\n",
      "Successfully installed google-api-python-client-2.34.0\n",
      "Note: you may need to restart the kernel to use updated packages.\n"
     ]
    }
   ],
   "source": [
    "pip install --upgrade google-api-python-client google-auth-httplib2 google-auth-oauthlib"
   ]
  },
  {
   "cell_type": "markdown",
   "metadata": {},
   "source": [
    "### 1 . you have to write a fun which will take string and return a len of it without using a inbuilt fun len"
   ]
  },
  {
   "cell_type": "code",
   "execution_count": 1,
   "metadata": {},
   "outputs": [],
   "source": [
    "def countstring(string):\n",
    "    count = 0\n",
    "    for i in string:\n",
    "        count +=1\n",
    "    return count"
   ]
  },
  {
   "cell_type": "code",
   "execution_count": 2,
   "metadata": {},
   "outputs": [
    {
     "name": "stdout",
     "output_type": "stream",
     "text": [
      "hi there\n"
     ]
    },
    {
     "data": {
      "text/plain": [
       "8"
      ]
     },
     "execution_count": 2,
     "metadata": {},
     "output_type": "execute_result"
    }
   ],
   "source": [
    "string = input()\n",
    "countstring(string)"
   ]
  },
  {
   "cell_type": "markdown",
   "metadata": {},
   "source": [
    "### 2 . write a fun which will be able to print an index of all premitive element which you will pass. "
   ]
  },
  {
   "cell_type": "code",
   "execution_count": 13,
   "metadata": {},
   "outputs": [],
   "source": [
    "def premitive(element):\n",
    "    for index,i in enumerate(element):\n",
    "        print(index,i)"
   ]
  },
  {
   "cell_type": "code",
   "execution_count": 14,
   "metadata": {},
   "outputs": [
    {
     "name": "stdout",
     "output_type": "stream",
     "text": [
      "123345\n",
      "0 1\n",
      "1 2\n",
      "2 3\n",
      "3 3\n",
      "4 4\n",
      "5 5\n"
     ]
    }
   ],
   "source": [
    "element = input()\n",
    "premitive(element)"
   ]
  },
  {
   "cell_type": "markdown",
   "metadata": {},
   "source": [
    "### 3 . Write a fun which will take input as a dict and give me out as a list of all the values even in case of 2 level nesting it should work ."
   ]
  },
  {
   "cell_type": "code",
   "execution_count": 5,
   "metadata": {},
   "outputs": [
    {
     "name": "stdout",
     "output_type": "stream",
     "text": [
      "[4, 5, 6, 2, 3, 7, 8, 9]\n"
     ]
    }
   ],
   "source": [
    "dictis = {\n",
    "    'a':{\n",
    "        'd':[4,5,6]\n",
    "    }\n",
    "    ,'b':2\n",
    "    ,'c':3\n",
    "    ,'d':{\n",
    "        'e':[7,8,9]\n",
    "    }\n",
    "}\n",
    "\n",
    "def value(obj):\n",
    "    for value in obj.values():\n",
    "        if isinstance(value, dict):\n",
    "            for value_list in value.values():\n",
    "                for value in value_list:\n",
    "                    yield value\n",
    "        else:\n",
    "            yield value\n",
    "\n",
    "listis = [x for x in value(dictis)]\n",
    "\n",
    "print(listis)"
   ]
  },
  {
   "cell_type": "markdown",
   "metadata": {},
   "source": [
    "### 4 . write a fun which will take another function as an input and return me an output"
   ]
  },
  {
   "cell_type": "code",
   "execution_count": 1,
   "metadata": {},
   "outputs": [
    {
     "name": "stdout",
     "output_type": "stream",
     "text": [
      "22\n"
     ]
    }
   ],
   "source": [
    "def add(x,y):\n",
    "    return x+y\n",
    "    \n",
    "def do_twice(func,x,y):\n",
    "    '''\n",
    "    As you can see, the function do_twice takes a function as its argument and calls it in its body\n",
    "    '''\n",
    "    return func(func(x,y),func(x,y))\n",
    "a = 5\n",
    "b = 6\n",
    "print(do_twice(add,a,b))"
   ]
  },
  {
   "cell_type": "markdown",
   "metadata": {},
   "source": [
    "### 5. write a function which will take multiple list as a input and give me concatnation of all the element as and output "
   ]
  },
  {
   "cell_type": "code",
   "execution_count": 1,
   "metadata": {},
   "outputs": [],
   "source": [
    "a = [1,2,3]\n",
    "b = [4,5,6]\n",
    "c = [7,8,9]"
   ]
  },
  {
   "cell_type": "code",
   "execution_count": 2,
   "metadata": {},
   "outputs": [],
   "source": [
    "def prob5(*n):\n",
    "    lst = []\n",
    "    for i in n:\n",
    "        lst.extend(i)\n",
    "    return lst"
   ]
  },
  {
   "cell_type": "code",
   "execution_count": 3,
   "metadata": {},
   "outputs": [
    {
     "data": {
      "text/plain": [
       "[1, 2, 3, 4, 5, 6, 7, 8, 9]"
      ]
     },
     "execution_count": 3,
     "metadata": {},
     "output_type": "execute_result"
    }
   ],
   "source": [
    "prob5(a,b,c)"
   ]
  },
  {
   "cell_type": "markdown",
   "metadata": {},
   "source": [
    "### 6. write a function which will be able to take a list as an input return an index of each element like a inbuilt index function but even if we have repetative element it should return index "
   ]
  },
  {
   "cell_type": "code",
   "execution_count": 10,
   "metadata": {},
   "outputs": [],
   "source": [
    "lst = [1,2,3,3,4,5,6]"
   ]
  },
  {
   "cell_type": "code",
   "execution_count": 11,
   "metadata": {},
   "outputs": [],
   "source": [
    "def index(a):\n",
    "    for index,i in enumerate(a):\n",
    "        print('index of {} is:'.format(i),index)"
   ]
  },
  {
   "cell_type": "code",
   "execution_count": 12,
   "metadata": {},
   "outputs": [
    {
     "name": "stdout",
     "output_type": "stream",
     "text": [
      "index of 1 is: 0\n",
      "index of 2 is: 1\n",
      "index of 3 is: 2\n",
      "index of 3 is: 3\n",
      "index of 4 is: 4\n",
      "index of 5 is: 5\n",
      "index of 6 is: 6\n"
     ]
    }
   ],
   "source": [
    "index(lst)"
   ]
  },
  {
   "cell_type": "markdown",
   "metadata": {},
   "source": [
    "### 7 . Write a function which will return list of all the file names from a directory . "
   ]
  },
  {
   "cell_type": "code",
   "execution_count": 18,
   "metadata": {},
   "outputs": [],
   "source": [
    "def osmod():\n",
    "    path = input()\n",
    "    return os.listdir(path)"
   ]
  },
  {
   "cell_type": "code",
   "execution_count": 19,
   "metadata": {},
   "outputs": [
    {
     "name": "stdout",
     "output_type": "stream",
     "text": [
      "C:\\Users\\manim\\Downloads\n"
     ]
    },
    {
     "data": {
      "text/plain": [
       "['cert-24365197-1158.pdf',\n",
       " 'cert-24365197-1159.pdf',\n",
       " 'cert-24365197-1161.pdf',\n",
       " 'cert-24365197-1169.pdf',\n",
       " 'desktop.ini',\n",
       " 'Gulfstream Enrollments Cookbook_Attach 1 R1 with DSS Remarks.docx',\n",
       " 'Hanuman-Chalisa-Telugu-PDF.pdf',\n",
       " 'LARGE AIRCRAFT (AIRBUS CJ & BOEING BBJ).docx',\n",
       " 'LARGE AIRCRAFT.docx',\n",
       " 'pic.jpg',\n",
       " 'video.mp4']"
      ]
     },
     "execution_count": 19,
     "metadata": {},
     "output_type": "execute_result"
    }
   ],
   "source": [
    "osmod()\n",
    "# C:\\Users\\manim\\Downloads ## path used for ref."
   ]
  },
  {
   "cell_type": "markdown",
   "metadata": {},
   "source": [
    "### 8  . write a function which will be able to show your system configuration . "
   ]
  },
  {
   "cell_type": "code",
   "execution_count": 4,
   "metadata": {},
   "outputs": [],
   "source": [
    "def sysconfig():\n",
    "    my_system = platform.uname()\n",
    "    \n",
    "    print(f\"System: {my_system.system}\")\n",
    "    print(f\"Node Name: {my_system.node}\")\n",
    "    print(f\"Release: {my_system.release}\")\n",
    "    print(f\"Version: {my_system.version}\")\n",
    "    print(f\"Machine: {my_system.machine}\")\n",
    "    print(f\"Processor: {my_system.processor}\")"
   ]
  },
  {
   "cell_type": "code",
   "execution_count": null,
   "metadata": {},
   "outputs": [],
   "source": [
    "my_system."
   ]
  },
  {
   "cell_type": "code",
   "execution_count": 22,
   "metadata": {},
   "outputs": [
    {
     "name": "stdout",
     "output_type": "stream",
     "text": [
      "System: Windows\n",
      "Node Name: LAPTOP-MANIDEEP\n",
      "Release: 10\n",
      "Version: 10.0.19041\n",
      "Machine: AMD64\n",
      "Processor: Intel64 Family 6 Model 142 Stepping 12, GenuineIntel\n"
     ]
    }
   ],
   "source": [
    "sysconfig()"
   ]
  },
  {
   "cell_type": "markdown",
   "metadata": {},
   "source": [
    "### 9 . write a function which will be able to show date and time."
   ]
  },
  {
   "cell_type": "code",
   "execution_count": 24,
   "metadata": {},
   "outputs": [],
   "source": [
    "def date():\n",
    "    return datetime.datetime.now()"
   ]
  },
  {
   "cell_type": "code",
   "execution_count": 25,
   "metadata": {},
   "outputs": [
    {
     "data": {
      "text/plain": [
       "datetime.datetime(2022, 1, 1, 9, 36, 29, 593608)"
      ]
     },
     "execution_count": 25,
     "metadata": {},
     "output_type": "execute_result"
    }
   ],
   "source": [
    "date()"
   ]
  },
  {
   "cell_type": "markdown",
   "metadata": {},
   "source": [
    "### 10 . write a function which will be able to read a image file and show it to you ."
   ]
  },
  {
   "cell_type": "code",
   "execution_count": 29,
   "metadata": {},
   "outputs": [],
   "source": [
    "def image():\n",
    "    image_path = input()\n",
    "    im = Image.open(image_path) ## path used for ref:C:\\Users\\manim\\Downloads\\swan.jpg\n",
    "    im.show()"
   ]
  },
  {
   "cell_type": "code",
   "execution_count": 34,
   "metadata": {},
   "outputs": [
    {
     "name": "stdout",
     "output_type": "stream",
     "text": [
      "C:\\Users\\manim\\Downloads\\swan.jpg\n"
     ]
    }
   ],
   "source": [
    "image()"
   ]
  },
  {
   "cell_type": "markdown",
   "metadata": {},
   "source": [
    "### 11 . write a function which can read video file and play for you ."
   ]
  },
  {
   "cell_type": "code",
   "execution_count": 45,
   "metadata": {},
   "outputs": [],
   "source": [
    "# Create a VideoCapture object and read from input file\n",
    "def videoshow():\n",
    "    path = input()\n",
    "    cap= cv2.VideoCapture(path)\n",
    "\n",
    "    fps= int(cap.get(cv2.CAP_PROP_FPS))\n",
    "\n",
    "    print(\"This is the fps \", fps)\n",
    "    # Check if camera opened successfully\n",
    "    if cap.isOpened() == False:\n",
    "        print(\"Error File Not Found\")\n",
    "    # Read until video is completed\n",
    "    while cap.isOpened():\n",
    "        ret,frame= cap.read() # Capture frame-by-frame\n",
    "        if ret == True: # Display the resulting frame\n",
    "            time.sleep(1/fps)\n",
    "            cv2.imshow('frame', frame)\n",
    "            if cv2.waitKey(1) & 0xFF == ord('q'):# Press Q on keyboard to exit\n",
    "                break\n",
    "        else:# Break the loop\n",
    "            break\n",
    "    # When everything done, release\n",
    "    # the video capture object\n",
    "    cap.release()\n",
    "    cv2.destroyAllWindows()# Closes all the frames\n",
    "    return"
   ]
  },
  {
   "cell_type": "code",
   "execution_count": 46,
   "metadata": {},
   "outputs": [
    {
     "name": "stdout",
     "output_type": "stream",
     "text": [
      "\n",
      "  @media print {\n",
      "    .ms-editor-squiggles-container {\n",
      "      display:none !important;\n",
      "    }\n",
      "  }\n",
      "  .ms-editor-squiggles-container {\n",
      "    all: initial;\n",
      "  }C:\\Users\\manim\\Downloads\\video.mp4\n",
      "This is the fps  24\n"
     ]
    }
   ],
   "source": [
    "videoshow()"
   ]
  },
  {
   "cell_type": "markdown",
   "metadata": {},
   "source": [
    "### 12  . write a function which can move a file from one directory to another directory."
   ]
  },
  {
   "cell_type": "code",
   "execution_count": 10,
   "metadata": {},
   "outputs": [
    {
     "name": "stdout",
     "output_type": "stream",
     "text": [
      "Looking in C:\\Users\\manim\\Downloads for files with extensions of .mp4, .pdf, .jpg\n",
      "Coping C:\\Users\\manim\\Downloads\\cert-24365197-1158.pdf to C:\\Users\\manim\\Documents\n",
      "Coping C:\\Users\\manim\\Downloads\\cert-24365197-1159.pdf to C:\\Users\\manim\\Documents\n",
      "Coping C:\\Users\\manim\\Downloads\\cert-24365197-1161.pdf to C:\\Users\\manim\\Documents\n",
      "Coping C:\\Users\\manim\\Downloads\\cert-24365197-1169.pdf to C:\\Users\\manim\\Documents\n",
      "Coping C:\\Users\\manim\\Downloads\\pic.jpg to C:\\Users\\manim\\Documents\n",
      "Coping C:\\Users\\manim\\Downloads\\video.mp4 to C:\\Users\\manim\\Documents\n"
     ]
    }
   ],
   "source": [
    "def selectiveCopy(source, extensions, destFolder):\n",
    "    folder = os.path.abspath(source)\n",
    "    destFolder = os.path.abspath(destFolder)\n",
    "    print('Looking in', source, 'for files with extensions of', ', '.join(extensions))\n",
    "    for foldername, subfolders, filenames in os.walk(source):\n",
    "        for filename in filenames:\n",
    "            name, extension = os.path.splitext(filename)\n",
    "            if extension in extensions:\n",
    "                fileAbsPath = foldername + os.path.sep + filename\n",
    "                print('Coping', fileAbsPath, 'to', destFolder)\n",
    "                shutil.copy(fileAbsPath, destFolder)\n",
    "\n",
    "extensions = ['.mp4', '.pdf','.jpg']\n",
    "source = 'C:\\\\Users\\\\manim\\\\Downloads'\n",
    "destFolder = 'C:\\\\Users\\\\manim\\\\Documents'\n",
    "selectiveCopy(source, extensions, destFolder)"
   ]
  },
  {
   "cell_type": "markdown",
   "metadata": {},
   "source": [
    "### 13 . write a function which will be able to shutdown your system."
   ]
  },
  {
   "cell_type": "code",
   "execution_count": 86,
   "metadata": {},
   "outputs": [],
   "source": [
    "def shutdown():\n",
    "    shut = \"shutdown /s\"\n",
    "    return shut"
   ]
  },
  {
   "cell_type": "code",
   "execution_count": 87,
   "metadata": {},
   "outputs": [],
   "source": [
    "## shutdown()"
   ]
  },
  {
   "cell_type": "markdown",
   "metadata": {},
   "source": [
    "### 14 . write a function which will be able to access your mail"
   ]
  },
  {
   "cell_type": "markdown",
   "metadata": {},
   "source": [
    "##### https://developers.google.com/gmail/api/quickstart/python"
   ]
  },
  {
   "cell_type": "code",
   "execution_count": 4,
   "metadata": {},
   "outputs": [
    {
     "name": "stdout",
     "output_type": "stream",
     "text": [
      "How many messages do you want to see?3\n",
      "Messages:\n",
      "ICICI PRUDENTIAL LIFE INSURANCE CO. LTD. Thank you for paying your premium Your premium receipt/tax certificate is enclosed with this email Dear Sir/Madam, Your payment receipt/tax certificate for the\n",
      "\n",
      "\n",
      "Dear Investor, With reference to BSE Notice 20201217-54 dated December 17, 2020, 20210115-2 dated January 15, 2021 and 20210118-31 dated January 18, 2021, Stock Brokers are required to upload clients\n",
      "\n",
      "\n",
      "हिंदी में पढ़ें Download English copy Dear Reader, With the rising participation of retail investors in India&#39;s securities market, SEBI along with market infrastructure institutions is keeping pace\n",
      "\n",
      "\n"
     ]
    }
   ],
   "source": [
    "# If modifying these scopes, delete the file token.json.\n",
    "SCOPES = ['https://www.googleapis.com/auth/gmail.readonly']\n",
    "\n",
    "def main():\n",
    "    \"\"\"Shows basic usage of the Gmail API.\n",
    "    Lists the user's Gmail labels.\n",
    "    \"\"\"\n",
    "    creds = None\n",
    "    # The file token.json stores the user's access and refresh tokens, and is\n",
    "    # created automatically when the authorization flow completes for the first\n",
    "    # time.\n",
    "    if os.path.exists('token.json'):\n",
    "        creds = Credentials.from_authorized_user_file('token.json', SCOPES)\n",
    "    # If there are no (valid) credentials available, let the user log in.\n",
    "    if not creds or not creds.valid:\n",
    "        if creds and creds.expired and creds.refresh_token:\n",
    "            creds.refresh(Request())\n",
    "        else:\n",
    "            flow = InstalledAppFlow.from_client_secrets_file(\n",
    "                'credentials.json', SCOPES)\n",
    "            creds = flow.run_local_server(port=0)\n",
    "        # Save the credentials for the next run\n",
    "        with open('token.json', 'w') as token:\n",
    "            token.write(creds.to_json())\n",
    "\n",
    "    try:\n",
    "        # Call the Gmail API\n",
    "        service = build('gmail', 'v1', credentials=creds)\n",
    "        #results = service.users().labels().list(userId='me').execute()\n",
    "        #labels = results.get('labels', [])\n",
    "        #get messages\n",
    "        results = service.users().messages().list(userId='me',labelIds=['INBOX']).execute()\n",
    "        messages = results.get('messages',[])\n",
    "\n",
    "        #if not labels:\n",
    "        message_count = int(input('How many messages do you want to see?'))\n",
    "        if not messages:\n",
    "            print('No messages found.')\n",
    "            return\n",
    "        print('Messages:')\n",
    "        #for label in labels:\n",
    "        for message in messages[:message_count]:\n",
    "            msg = service.users().messages().get(userId='me',id = message['id']).execute()\n",
    "            print(msg['snippet'])\n",
    "            print('\\n')\n",
    "            time.sleep(2)\n",
    "            #print(label['name'])\n",
    "\n",
    "    except HttpError as error:\n",
    "        # TODO(developer) - Handle errors from gmail API.\n",
    "        print(f'An error occurred: {error}')\n",
    "\n",
    "\n",
    "if __name__ == '__main__':\n",
    "    main()"
   ]
  },
  {
   "cell_type": "markdown",
   "metadata": {},
   "source": [
    "### 15 . write a func by which i can send a mail to anyone"
   ]
  },
  {
   "cell_type": "code",
   "execution_count": 6,
   "metadata": {},
   "outputs": [],
   "source": [
    "#simple mail transfer protocol\n",
    "def mail():\n",
    "    try:\n",
    "        user_id = input('Enter email address: ')\n",
    "        rec_id = input('Enter receiver address: ')\n",
    "        message = input('Enter your message: ')\n",
    "        server = smtplib.SMTP('smtp.gmail.com',587) ## host and port\n",
    "        server.starttls() ## authentication\n",
    "        '''\n",
    "        remember to turnon the less safer apps.\n",
    "        '''\n",
    "        #server.login('pythondemo007@gmail.com','Pythondemo@007') ##username and password\n",
    "        server.login('enter your username','enter your password') ##username and password\n",
    "        server.sendmail(user_id,rec_id,message)\n",
    "        server.quit()\n",
    "        print('mail sent')\n",
    "    except:\n",
    "        print('mail not sent: provided email address or password is wrong')"
   ]
  },
  {
   "cell_type": "code",
   "execution_count": 7,
   "metadata": {},
   "outputs": [
    {
     "name": "stdout",
     "output_type": "stream",
     "text": [
      "Enter email address: pythondemo007@gmail.com\n",
      "Enter receiver address: manimanideep345@gmail.com\n",
      "Enter your message: hi therr\n",
      "mail sent\n"
     ]
    }
   ],
   "source": [
    "mail()"
   ]
  },
  {
   "cell_type": "markdown",
   "metadata": {},
   "source": [
    "### 16. write a func to read a complete PDf file ."
   ]
  },
  {
   "cell_type": "code",
   "execution_count": 23,
   "metadata": {},
   "outputs": [
    {
     "name": "stdout",
     "output_type": "stream",
     "text": [
      "C:\\Users\\manim\\Downloads\\Hanuman-Chalisa-Telugu-PDF.pdf\n",
      "Hanuman Chalisa in Telugu \n",
      "\n",
      "హనుమాన్ చాలీసా \n",
      "\n",
      "|| దోహా- || \n",
      "\n",
      "శ్రీ గురు చరన సరోజ రజ నిజ మను ముకుర సుధార | బరణౌం రఘువర విమల యశ జో దాయకు ఫలచార || \n",
      "\n",
      "బుద్ధి హీన తను జానికే సుమిరౌం పవనకుమార | బల బుద్ధి  విదాా దేహు మోహిఁ హరహు కలేస వికార || \n",
      "\n",
      "|| చౌపాయీ- || \n",
      "\n",
      "జయ హనుమాన జాా న గుణ సాగర | జయ కపీశ తిహుౌం లోక ఉజాగర || \n",
      "\n",
      "రామ దూత అతులిత బల ధామా | అౌంజనిపుతర  పవనసుత నామా || \n",
      "\n",
      "మహావీర వికీ మ బజరౌంగీ | కుమతి నివార సుమతి కే సౌంగీ || \n",
      "\n",
      "కౌంచన బరన విరాజ సువేసా | కానన కుౌండల కుౌంచిత కేశా || \n",
      "\n",
      "హాథ వజర  ఔ ధ్వజా విరాజై  | కాౌంధే మౌంజ జనేఊ సాజై  || \n",
      "\n",
      "సౌంకర సువన కేసరీనౌందన | తేజ పర తాప మహా జగ వౌందన || \n",
      "\n",
      "విదాావాన గుణీ అతిచాతుర | రామ కాజ కరిబే కో ఆతుర || \n",
      "\n",
      "పర భు చరితర  సునిబే కో రసియా | రామ లఖన సీతా మన బసియా || \n",
      "\n",
      "సూక్ష్మ రూప ధ్రి సియహిఁ ద్ధఖావా | వికట రూప ధ్రి లౌంక జరావా || \n",
      "\n",
      "భీమ రూప ధ్రి అసుర సౌంహారే | రామచౌందర  కే కాజ సౌంవారే || \n",
      "\n",
      "లాయ సజీవన లఖన జియాయే | శ్రీ రఘువీర హరషి ఉర లాయే || \n",
      "\n",
      "రఘుపతి కీన్హీ  బహుత బడాయీ | తుమ మమ ప్రర య భరత సమ భాయీ || \n",
      "\n",
      "\f",
      "సహస వదన తుమీ రో యస గావై ిఁ | అస కహ శ్రీ పతి కౌంఠ లగావై ిఁ || \n",
      "\n",
      "సనకాద్ధక బర హామద్ధ మున్హశా | నారద శారద సహత అహీశా || \n",
      "\n",
      "యమ కుబేర ద్ధకాాల జహాౌం తే | కవి కోవిద కహ సకే కహాౌం తే || \n",
      "\n",
      "తుమ ఉపకార సుగీీ వహౌం కీనాీ\n",
      "\n",
      " | రామ మిలాయ రాజ పద దీనాీ\n",
      "\n",
      " || \n",
      "\n",
      "తుమీ రో మౌంతర  విభీషన మానా | లౌంకేశవర భయే సబ జగ జానా || \n",
      "\n",
      "యుగ సహసర  యోజన పర భానూ | లీలోా తాహ మధుర ఫల జానూ || \n",
      "\n",
      "పర భు ముద్ధర కా మేలి ముఖ మాహీిఁ | జలధి లాౌంఘి గయే అచరజ నాహీిఁ || \n",
      "\n",
      "దురగ మ కాజ జగత కే జేతే | సుగమ అనుగీ హ తుమీ రే తేతే || \n",
      "\n",
      "రామ దుఆరే తుమ రఖవారే | హోత న ఆజాా\n",
      "\n",
      " బిను పై సారే || \n",
      "\n",
      "సబ సుఖ లహై  తుమాీ రీ సరనా | తుమ రక్ష్క కాహూ కో డర నా || \n",
      "\n",
      "ఆపన తేజ సౌంహారో ఆపై  | తీనిఁ లోక హాౌంక తేిఁ కాౌంపై  || \n",
      "\n",
      "భూత ప్రశాచ నికట నహిఁ ఆవై  | మహావీర జబ నామ సునావై  || \n",
      "\n",
      "నాశై  రోగ హరై  సబ పీరా | జపత నిరౌంతర హనుమత వీరా || \n",
      "\n",
      "సౌంకటసే హనుమాన ఛుడావై  | మన కీ మ వచన ధాాన జో లావై  || \n",
      "\n",
      "సబ పర రామ తపసీవ రాజా | తిన కే కాజ సకల తుమ సాజా || \n",
      "\n",
      "ఔర మనరథ జో కోయీ లావై  | తాసు అమిత జీవన ఫల పావై  || \n",
      "\n",
      "చారోిఁ యుగ పర తాప తుమాీ రా | హై  పర సిది  జగత ఉజియారా || \n",
      "\n",
      "సాధు సౌంత కే తుమ రఖవారే | అసుర నికౌందన రామ దులారే || \n",
      "\n",
      "\f",
      "అషట  సిద్ధి  నవ నిధి కే దాతా | అస బర దీన జానకీ మాతా || \n",
      "\n",
      "రామ రసాయన తుమీ రే పాసా | సదా రహో రఘుపతి కే దాసా || \n",
      "\n",
      "తుమీ రే భజన రామ కో పావై  | జనమ జనమ కే దుఖ బిసరావై  || \n",
      "\n",
      "అౌంత కాల రఘుపతి పుర జాయీ | జహాిఁ జనిమ హరిభకత  కహాయీ || \n",
      "\n",
      "ఔర దేవతా చితత  న ధ్రయీ | హనుమత సేయి సరవ సుఖ కరయీ || \n",
      "\n",
      "సౌంకట కటై  మిటై  సబ పీరా | జో సుమిరై  హనుమత బలవీరా || \n",
      "\n",
      "జై  జై  జై  హనుమాన గోసాయీిఁ | కృపా కరహు గురు దేవ కీ నాయీిఁ || \n",
      "\n",
      "యహ శత బార పాఠ కర కోయీ | ఛూటహ బౌంద్ధ మహా సుఖ హోయీ || \n",
      "\n",
      "జో యహ పఢై  హనుమాన చలీసా | హోయ సిద్ధి  సాఖీ గౌరీసా || \n",
      "\n",
      "తులసీదాస సదా హరి చేరా | కీజై  నాథ హృదయ మహ డేరా || \n",
      "\n",
      "పవనతనయ సౌంకట హరణ | మౌంగల మరతి రూప || \n",
      "\n",
      "రామ లఖన సీతా సహత | హృదయ బసహు సుర భూప || \n",
      "\n",
      "www.hanumanchalisalyric.com \n",
      "\n",
      "|| దోహా- || \n",
      "\n",
      " \n",
      "\n",
      " \n",
      "\n",
      "\f",
      "\n"
     ]
    }
   ],
   "source": [
    "def pdfreader():\n",
    "    path = input()\n",
    "    text = pdfminer.high_level.extract_text(path) ##ref path used:C:\\Users\\manim\\Downloads\\Hanuman-Chalisa-Telugu-PDF.pdf\n",
    "    return text\n",
    " \n",
    "print(pdfreader())"
   ]
  },
  {
   "cell_type": "markdown",
   "metadata": {},
   "source": [
    "### 17. write a function to read a word file . "
   ]
  },
  {
   "cell_type": "code",
   "execution_count": 51,
   "metadata": {},
   "outputs": [
    {
     "name": "stdout",
     "output_type": "stream",
     "text": [
      "D:\\Office\\Office Tools\\LARGE AIRCRAFT.docx\n",
      "LARGE AIRCRAFT  (AIRBUS CJ/BOEING BBJ)- INSTRUCTIONS\n",
      "\n",
      "PN: -\n",
      "\n",
      "SMC: -\n",
      "\n",
      "PACKAGES: -\n",
      "\n",
      "AD/SBS:\n",
      "\n",
      "FOR AD/SBs WHERE MOC = NOT APPLICABLE, ENROLL ONLY THE EXACT ITEM WITHOUT UOMs. DO NOT ENROLL / UPDATE RELEVANT PARA / PARTs EVEN AVAILABLE\n",
      "\n",
      "IF COMPLIANCE STATEMENT = MODEL CONVERSION, FIELD ONLY, SPARE PARTS RELEASE, INFO ONLY, OPEN. PLEASE RECORD THE SAME TO MOC NOTE FIELD AS IS\n",
      "\n",
      "SKIP SB’s THAT ARE NOT ISSUED\n",
      "\n",
      "\n",
      "\n",
      "\n",
      "\n",
      "Received instructions from HANS for Not founds tracking\n",
      "\n",
      "Not Found Items:\n",
      "\n",
      "As usual please create upload spreadsheets for not found. Typically, there are tasks not found and without task numbers. If no task number is found please improvise as I do. Use a task number with “TBD” embedded.\n",
      "\n",
      "Ie: 26-TBD-001  - doghouse fire bottle\n",
      "\n",
      "      26-TBD-001.1 -  doghouse fire bottle weight check.\n",
      "\n",
      "\n",
      "\n",
      "      33-TBD-023  - Seat 23 PCU\n",
      "\n",
      "     33-TBD-023  - Seat 43 PCU\n",
      "\n",
      "\n",
      "\n",
      "First two digits –ATA chapter, if not available use 00. Example: 00-TBD-01  - fuel nozzle grommet\n",
      "\n",
      "\n",
      "\n",
      "In this case I could search “%TBD” in CAMP and review. The point is I would like not to uploading spreadsheets and was hoping you team could help by uploading “Not Found” rather than informing me a spreadsheet was created..\n"
     ]
    }
   ],
   "source": [
    "def word():\n",
    "    path = input()\n",
    "    my_text = docx2txt.process(path) ###r\"D:\\Office\\Office Tools\\LARGE AIRCRAFT.docx\"\n",
    "    print (my_text)\n",
    "word()"
   ]
  },
  {
   "cell_type": "markdown",
   "metadata": {},
   "source": [
    "### 18 . write a function which can help you to filter only word file from a directory . "
   ]
  },
  {
   "cell_type": "code",
   "execution_count": 68,
   "metadata": {},
   "outputs": [],
   "source": [
    "def req_files():\n",
    "    path = input() # ref path used: \"C:/Users/manim/Downloads*/*\"\n",
    "    print(glob.glob(path+'*/*'+'.docx'))"
   ]
  },
  {
   "cell_type": "code",
   "execution_count": 69,
   "metadata": {},
   "outputs": [
    {
     "name": "stdout",
     "output_type": "stream",
     "text": [
      "C:/Users/manim/Downloads\n",
      "['C:/Users/manim\\\\Downloads\\\\Gulfstream Enrollments Cookbook_Attach 1 R1 with DSS Remarks.docx', 'C:/Users/manim\\\\Downloads\\\\LARGE AIRCRAFT (AIRBUS CJ & BOEING BBJ).docx', 'C:/Users/manim\\\\Downloads\\\\LARGE AIRCRAFT.docx']\n"
     ]
    }
   ],
   "source": [
    "req_files()"
   ]
  },
  {
   "cell_type": "code",
   "execution_count": null,
   "metadata": {},
   "outputs": [],
   "source": []
  },
  {
   "cell_type": "markdown",
   "metadata": {},
   "source": [
    "### 19 . write a function by which you can print an ip address of your system ."
   ]
  },
  {
   "cell_type": "code",
   "execution_count": 23,
   "metadata": {},
   "outputs": [],
   "source": [
    "# Python Program to Get IP Address\n",
    "def ip():\n",
    "    hostname = socket.gethostname()   \n",
    "    IPAddr = socket.gethostbyname(hostname)   \n",
    "    print(\"Your Computer Name is:\" + hostname)   \n",
    "    print(\"Your Computer IP Address is:\" + IPAddr)"
   ]
  },
  {
   "cell_type": "code",
   "execution_count": 24,
   "metadata": {},
   "outputs": [
    {
     "name": "stdout",
     "output_type": "stream",
     "text": [
      "Your Computer Name is:LAPTOP-MANIDEEP\n",
      "Your Computer IP Address is:192.168.0.101\n"
     ]
    }
   ],
   "source": [
    "ip()"
   ]
  },
  {
   "cell_type": "markdown",
   "metadata": {},
   "source": [
    "### 20 . write a function by which you will be able to append two PDF files . "
   ]
  },
  {
   "cell_type": "code",
   "execution_count": 25,
   "metadata": {},
   "outputs": [],
   "source": [
    "def mergepdfs():\n",
    "    pdfs = int(input('Enter number of pdfs to merge'))\n",
    "    files = []\n",
    "    for pdf in range(pdfs):\n",
    "        pdf = input(\"Enter the pdf's file path with name and pdf extension\")\n",
    "        files.append(pdf)\n",
    "    merger = PdfFileMerger()\n",
    "\n",
    "    for pdf in files:\n",
    "        merger.append(pdf)\n",
    "\n",
    "    merger.write(r\"C:\\Users\\manim\\Downloads\\result.pdf\")\n",
    "    merger.close()"
   ]
  },
  {
   "cell_type": "code",
   "execution_count": 30,
   "metadata": {},
   "outputs": [
    {
     "name": "stdout",
     "output_type": "stream",
     "text": [
      "Enter number of pdfs to merge2\n",
      "Enter the pdf's nameC:\\Users\\manim\\Downloads\\NOV-SALARY-SLIP.pdf\n",
      "Enter the pdf's nameC:\\Users\\manim\\Downloads\\NOV-SALARY-SLIP.pdf\n"
     ]
    }
   ],
   "source": [
    "mergepdfs()"
   ]
  },
  {
   "cell_type": "markdown",
   "metadata": {},
   "source": [
    "### 21. write a function by which you can able to merge all txt. files into one file"
   ]
  },
  {
   "cell_type": "code",
   "execution_count": 1,
   "metadata": {},
   "outputs": [],
   "source": [
    "import os"
   ]
  },
  {
   "cell_type": "code",
   "execution_count": 3,
   "metadata": {},
   "outputs": [],
   "source": [
    "import glob"
   ]
  },
  {
   "cell_type": "code",
   "execution_count": 7,
   "metadata": {},
   "outputs": [],
   "source": [
    "files = glob.glob(r\"C:\\Users\\manim\\Documents\\*.txt\")\n",
    "\n",
    "with open('merged.txt','wb') as final:\n",
    "    for f in files:\n",
    "        with open(f,'rb') as openfile:\n",
    "            final.write(openfile.read())"
   ]
  },
  {
   "cell_type": "code",
   "execution_count": null,
   "metadata": {},
   "outputs": [],
   "source": []
  }
 ],
 "metadata": {
  "kernelspec": {
   "display_name": "Python 3",
   "language": "python",
   "name": "python3"
  },
  "language_info": {
   "codemirror_mode": {
    "name": "ipython",
    "version": 3
   },
   "file_extension": ".py",
   "mimetype": "text/x-python",
   "name": "python",
   "nbconvert_exporter": "python",
   "pygments_lexer": "ipython3",
   "version": "3.8.5"
  }
 },
 "nbformat": 4,
 "nbformat_minor": 4
}
